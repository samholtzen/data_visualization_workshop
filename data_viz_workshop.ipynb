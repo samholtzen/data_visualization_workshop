{
 "cells": [
  {
   "cell_type": "code",
   "execution_count": 2,
   "metadata": {
    "collapsed": true,
    "pycharm": {
     "name": "#%%\n"
    }
   },
   "outputs": [],
   "source": [
    "import matplotlib.pyplot as plt\n",
    "import seaborn as sns"
   ]
  },
  {
   "cell_type": "markdown",
   "source": [
    "# Inspiration and background\n",
    "\n",
    "You are a data scientist working at an American Automotive Company, and for some reason, you are tasked with looking at various data for cars between the years of 1970 and 1982. Not wanting to stir the pot, you acquiesce. You're not sure what you're looking for, so you try to come up with the most logical combinations possible to plot to make your boss happy."
   ],
   "metadata": {
    "collapsed": false
   }
  },
  {
   "cell_type": "markdown",
   "source": [
    "## Importing previously established datasets with Pandas\n",
    "\n",
    "You've heard tell of a Python package called Pandas, which is a Python tool that allows you to read in data organized in rows and columns. Since it's based on Numpy, it allows very fast calculations on very large datasets. Fun fact: it was originally developed for crunching large amounts of numbers in the econometrics sector and is written in a combination of Python and C++."
   ],
   "metadata": {
    "collapsed": false
   }
  },
  {
   "cell_type": "code",
   "execution_count": null,
   "outputs": [],
   "source": [
    "# Read in a toy dataset that comes with Seaborn\n",
    "df = sns.load_dataset('mpg')\n",
    "\n",
    "# To load any other .csv or .tsv file as a Pandas DataFrame, simply use the pd.readcsv() function.\n",
    "\n",
    "# Print the dataframe to look at how the structure is organized\n",
    "print(df)"
   ],
   "metadata": {
    "collapsed": false,
    "pycharm": {
     "name": "#%%\n",
     "is_executing": true
    }
   }
  },
  {
   "cell_type": "markdown",
   "source": [
    "Next, we want to see the values stored in the variable \"origin\"."
   ],
   "metadata": {
    "collapsed": false
   }
  },
  {
   "cell_type": "code",
   "execution_count": null,
   "outputs": [],
   "source": [
    "# Pull out the column \"origin\"\n",
    "car_origin = df.origin\n",
    "\n",
    "# Print the column\n",
    "print(car_origin)"
   ],
   "metadata": {
    "collapsed": false,
    "pycharm": {
     "name": "#%%\n",
     "is_executing": true
    }
   }
  },
  {
   "cell_type": "markdown",
   "source": [
    "If you want to get multiple columns out, instead of using the dot method, index using a string that corresponds to the \"key\" in the table (column name)."
   ],
   "metadata": {
    "collapsed": false
   }
  },
  {
   "cell_type": "code",
   "execution_count": null,
   "outputs": [],
   "source": [
    "# Pull out the column \"origin\" AND the column \"mpg\"\n",
    "car_origin_mpg = df[['origin','mpg']]\n",
    "\n",
    "# Print these columns\n",
    "print(car_origin_mpg)"
   ],
   "metadata": {
    "collapsed": false,
    "pycharm": {
     "name": "#%%\n",
     "is_executing": true
    }
   }
  },
  {
   "cell_type": "markdown",
   "source": [
    "That column is quite unwieldy. Maybe there's a way we can find the *unique* values in this column."
   ],
   "metadata": {
    "collapsed": false
   }
  },
  {
   "cell_type": "code",
   "execution_count": null,
   "outputs": [],
   "source": [
    "# Pull out the column \"origin\" and pass it through the .unique() function to get a list of the unique values\n",
    "car_origin = df.origin.unique()\n",
    "\n",
    "# Print the column\n",
    "print(car_origin)"
   ],
   "metadata": {
    "collapsed": false,
    "pycharm": {
     "name": "#%%\n",
     "is_executing": true
    }
   }
  },
  {
   "cell_type": "markdown",
   "source": [
    "That's all fine and dandy, but what's _actually_ stored in this data set? Is there a way we can access all of the columns that we can work with? There sure is!"
   ],
   "metadata": {
    "collapsed": false
   }
  },
  {
   "cell_type": "code",
   "execution_count": null,
   "outputs": [],
   "source": [
    "# Print the name of the columns by using the dot method. Note the data type is an index object instead of a list.\n",
    "\n",
    "print(df.columns)"
   ],
   "metadata": {
    "collapsed": false,
    "pycharm": {
     "name": "#%%\n",
     "is_executing": true
    }
   }
  },
  {
   "cell_type": "markdown",
   "source": [
    "# Working with Seaborn\n",
    "What if we wanted to see the difference in fuel efficiency between cars made in Japan, Europe, or the USA? We can use a graph! But what kind of graph?\n",
    "\n",
    "Seaborn is a package based on the Matplotlib framework. You don't have any idea what that means, but you trust the process. It's very good at displaying data and is deeply integrated with Pandas DataFrames, so you decide to give it a shot."
   ],
   "metadata": {
    "collapsed": false
   }
  },
  {
   "cell_type": "code",
   "execution_count": null,
   "outputs": [],
   "source": [
    "# A scatterplot may help you to identify trends between the data. Use the scatterplot function in Seaborn\n",
    "sns.scatterplot(data = df, x='origin',y='mpg')\n",
    "\n",
    "# Run the following command to print the resulting graph\n",
    "plt.show()"
   ],
   "metadata": {
    "collapsed": false,
    "pycharm": {
     "name": "#%%\n",
     "is_executing": true
    }
   }
  },
  {
   "cell_type": "markdown",
   "source": [
    "Okay, it's not the prettiest graph we've ever made, but we can clearly see the trends in fuel efficiency vs. origin. Is there another way we can look at categorical data?\n",
    "\n",
    "# Using Categorical graphs\n",
    "\n",
    "Categorical graphs are slightly different than scatter plots we might be used to. Instead of thinking of the x variable as continuous, we can think of it as having discrete values, so we can organize the data based on these relationships. The syntax will be the same, but Seaborn does a lot of the work for us under the hood, pardon the pun."
   ],
   "metadata": {
    "collapsed": false,
    "pycharm": {
     "name": "#%% md\n"
    }
   }
  },
  {
   "cell_type": "code",
   "execution_count": null,
   "outputs": [],
   "source": [
    "sns.boxplot(data=df, x='origin',y='mpg')\n",
    "sns.stripplot(data=df, x='origin',y='mpg')\n",
    "plt.show()"
   ],
   "metadata": {
    "collapsed": false,
    "pycharm": {
     "name": "#%%\n",
     "is_executing": true
    }
   }
  },
  {
   "cell_type": "markdown",
   "source": [
    "Let's add a title and pretty up the graph a little more."
   ],
   "metadata": {
    "collapsed": false
   }
  },
  {
   "cell_type": "code",
   "execution_count": null,
   "outputs": [],
   "source": [
    "# Set context and resolution\n",
    "sns.set_context('paper')\n",
    "sns.set(rc={\"figure.dpi\":300, 'savefig.dpi':300})\n",
    "\n",
    "# Plot the data\n",
    "ax = sns.boxplot(data=df, x='origin',y='mpg')\n",
    "sns.stripplot(data=df, x='origin',y='mpg', palette='dark')\n",
    "\n",
    "# Add figure titles, labels, and tick labels\n",
    "plt.title('Fuel Efficiency vs. Origin of Automobile')\n",
    "plt.xlabel('Country of Origin')\n",
    "plt.ylabel('Fuel Efficiency (miles per gallon)')\n",
    "ax.set_xticklabels(['USA','Japan','Europe'])\n",
    "\n",
    "plt.show()"
   ],
   "metadata": {
    "collapsed": false,
    "pycharm": {
     "name": "#%%\n",
     "is_executing": true
    }
   }
  },
  {
   "cell_type": "markdown",
   "source": [
    "That's interesting! It looks like Japan has the highest fuel efficiency, followed closely by Europe, then the USA in dead last. Pushing any speculation as to why out of your mind, you wonder how these results compare to how fast these cars accelerate to 60 mph. We can do that by simply __copying__ the code above, changing around the variables we want plotted, and running the program!"
   ],
   "metadata": {
    "collapsed": false
   }
  },
  {
   "cell_type": "code",
   "execution_count": null,
   "outputs": [],
   "source": [
    "# Set context and resolution\n",
    "sns.set_context('paper')\n",
    "sns.set(rc={\"figure.dpi\":300, 'savefig.dpi':300})\n",
    "\n",
    "# Plot the data\n",
    "ax = sns.boxplot(data=df, x='origin',y='acceleration')\n",
    "sns.stripplot(data=df, x='origin',y='acceleration', palette='dark')\n",
    "\n",
    "# Add figure titles, labels, and tick labels\n",
    "plt.title('Fuel Efficiency vs. Origin of Automobile')\n",
    "plt.xlabel('Country of Origin')\n",
    "plt.ylabel('Acceleration')\n",
    "ax.set_xticklabels(['USA','Japan','Europe'])\n",
    "\n",
    "plt.show()"
   ],
   "metadata": {
    "collapsed": false,
    "pycharm": {
     "name": "#%%\n",
     "is_executing": true
    }
   }
  },
  {
   "cell_type": "markdown",
   "source": [
    "Now, you might be interested to see the effect of cylinder number on the fuel efficiency or performance of the car. This is easily accomplished by taking advantage of the \"hue\" parameter!\n"
   ],
   "metadata": {
    "collapsed": false
   }
  },
  {
   "cell_type": "code",
   "execution_count": null,
   "outputs": [],
   "source": [
    "# Set context and resolution\n",
    "sns.set_context('paper')\n",
    "sns.set(rc={\"figure.dpi\":300, 'savefig.dpi':300})\n",
    "\n",
    "# Plot the data\n",
    "ax = sns.boxplot(data=df, x='origin',y='mpg', hue='cylinders')\n",
    "sns.stripplot(data=df, x='origin',y='mpg', hue='cylinders', palette='dark', dodge=True)\n",
    "\n",
    "# Add figure titles, labels, and tick labels\n",
    "plt.title('Fuel Efficiency vs. Origin of Automobile')\n",
    "plt.xlabel('Country of Origin')\n",
    "plt.ylabel('Fuel Efficiency (miles per gallon)')\n",
    "ax.set_xticklabels(['USA','Japan','Europe'])\n",
    "plt.legend(bbox_to_anchor=(1.05, 1), loc='upper left', borderaxespad=0)\n",
    "\n",
    "plt.show()"
   ],
   "metadata": {
    "collapsed": false,
    "pycharm": {
     "name": "#%%\n",
     "is_executing": true
    }
   }
  },
  {
   "cell_type": "markdown",
   "source": [
    "Let's look at acceleration now..."
   ],
   "metadata": {
    "collapsed": false
   }
  },
  {
   "cell_type": "code",
   "execution_count": null,
   "outputs": [],
   "source": [
    "# Set context and resolution\n",
    "sns.set_context('paper')\n",
    "sns.set(rc={\"figure.dpi\":300, 'savefig.dpi':300})\n",
    "\n",
    "# Plot the data\n",
    "ax = sns.boxplot(data=df, x='origin',y='acceleration', hue='cylinders')\n",
    "sns.stripplot(data=df, x='origin',y='acceleration', hue='cylinders', palette='dark', dodge=True)\n",
    "\n",
    "# Add figure titles, labels, and tick labels\n",
    "plt.title('Fuel Efficiency vs. Origin of Automobile')\n",
    "plt.xlabel('Country of Origin')\n",
    "plt.ylabel('Acceleration')\n",
    "ax.set_xticklabels(['USA','Japan','Europe'])\n",
    "\n",
    "# Put legend outside for readability.\n",
    "plt.legend(bbox_to_anchor=(1.05, 1), loc='upper left', borderaxespad=0)\n",
    "\n",
    "plt.show()"
   ],
   "metadata": {
    "collapsed": false,
    "pycharm": {
     "name": "#%%\n",
     "is_executing": true
    }
   }
  },
  {
   "cell_type": "markdown",
   "source": [
    "Aha! Now we're getting somewhere. It looks like there is a negative correlation between the number of cylinders and both the fuel efficiency of the car, and a positive correlation with its acceleration. Maybe we can see this in our data!"
   ],
   "metadata": {
    "collapsed": false
   }
  },
  {
   "cell_type": "code",
   "execution_count": null,
   "outputs": [],
   "source": [
    "sns.lmplot(data=df, x='acceleration', y='mpg', hue='origin')\n",
    "plt.show()"
   ],
   "metadata": {
    "collapsed": false,
    "pycharm": {
     "name": "#%%\n",
     "is_executing": true
    }
   }
  },
  {
   "cell_type": "code",
   "execution_count": null,
   "outputs": [],
   "source": [
    "#Filter out data we want by using a \"logical indexing\" method. only take the rows of the dataframe where the origin is \"usa\"\n",
    "\n",
    "usa_data = df[df.origin=='usa']\n",
    "\n",
    "print(usa_data)\n",
    "\n",
    "sns.lmplot(data=usa_data, x='acceleration',y='mpg',hue='cylinders', col='cylinders')\n",
    "plt.ylim((0,50))\n",
    "\n",
    "plt.show()"
   ],
   "metadata": {
    "collapsed": false,
    "pycharm": {
     "name": "#%%\n",
     "is_executing": true
    }
   }
  },
  {
   "cell_type": "markdown",
   "source": [
    "Well doesn't that look dandy! Four- and six-cylinder cars show a negative correlation between acceleration and miles per gallon, but eight-cylinder shows less of a correlation. I wonder if this is trend holds across all the regions. Since the number of cylinders is different across all regions, I want to do this separately."
   ],
   "metadata": {
    "collapsed": false
   }
  },
  {
   "cell_type": "code",
   "execution_count": null,
   "outputs": [],
   "source": [
    "sns.lmplot(data=df[df.origin=='japan'], x='acceleration',y='mpg',hue='cylinders', col='cylinders')\n",
    "plt.ylim((0,50))\n",
    "\n",
    "plt.show()"
   ],
   "metadata": {
    "collapsed": false,
    "pycharm": {
     "name": "#%%\n",
     "is_executing": true
    }
   }
  },
  {
   "cell_type": "code",
   "execution_count": null,
   "outputs": [],
   "source": [
    "sns.lmplot(data=df[df.origin=='europe'], x='acceleration',y='mpg',hue='cylinders', col='cylinders')\n",
    "plt.ylim((0,50))\n",
    "plt.show()"
   ],
   "metadata": {
    "collapsed": false,
    "pycharm": {
     "name": "#%%\n",
     "is_executing": true
    }
   }
  },
  {
   "cell_type": "markdown",
   "source": [
    "One thing to keep in mind when you are doing some exploratory analyses with low numbers of observations is that the confidence in the observations goes down. Once you start to see less than optimal number of observations, you've probably gone down as deep into comparisons as you can without losing statistical power.\n",
    "\n",
    "For instance, this data set has a limit of division across four variables (mpg, acceleration, cylinders, and origin). Keep it at four or less \"filters\"."
   ],
   "metadata": {
    "collapsed": false
   }
  },
  {
   "cell_type": "markdown",
   "source": [
    "# What did we learn today?\n",
    "\n",
    "You feel satisfied with your work in identifying the trends between speed, performance, country of origin, and number of cylinders. You have also put together a compelling Jupyter notebook to record these observations for reproducibility."
   ],
   "metadata": {
    "collapsed": false
   }
  }
 ],
 "metadata": {
  "kernelspec": {
   "display_name": "Python 3",
   "language": "python",
   "name": "python3"
  },
  "language_info": {
   "codemirror_mode": {
    "name": "ipython",
    "version": 2
   },
   "file_extension": ".py",
   "mimetype": "text/x-python",
   "name": "python",
   "nbconvert_exporter": "python",
   "pygments_lexer": "ipython2",
   "version": "2.7.6"
  }
 },
 "nbformat": 4,
 "nbformat_minor": 0
}